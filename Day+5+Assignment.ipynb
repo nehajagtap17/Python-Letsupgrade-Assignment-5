{
 "cells": [
  {
   "cell_type": "code",
   "execution_count": 2,
   "metadata": {},
   "outputs": [
    {
     "name": "stdout",
     "output_type": "stream",
     "text": [
      "[1, 1, 1, 2, 2, 3, 4, 4, 10, 56, 56, 0, 0, 0, 0, 0]\n"
     ]
    }
   ],
   "source": [
    "#Day 5 Assignments\n",
    "#Assignment 1\n",
    "\n",
    "list= [0,1,2,10,4,1,0,56,2,0,1,3,0,56,0,4]\n",
    "list.sort ()\n",
    "def func(x):\n",
    "    return x==0\n",
    "list.sort(key=func, reverse=False)\n",
    "print (list)"
   ]
  },
  {
   "cell_type": "code",
   "execution_count": 2,
   "metadata": {},
   "outputs": [
    {
     "name": "stdout",
     "output_type": "stream",
     "text": [
      "[5, 10, 15, 20, 25, 35, 40, 45, 60, 60, 70, 80]\n"
     ]
    }
   ],
   "source": [
    "#Assignment 2\n",
    "\n",
    "list1= [10,20,40,60,70,80]\n",
    "list2= [5,15,25,35,45,60]\n",
    "for x in list2:\n",
    "    list1.append(x)\n",
    "    list1.sort()\n",
    "print (list1)"
   ]
  }
 ],
 "metadata": {
  "kernelspec": {
   "display_name": "Python 3",
   "language": "python",
   "name": "python3"
  },
  "language_info": {
   "codemirror_mode": {
    "name": "ipython",
    "version": 3
   },
   "file_extension": ".py",
   "mimetype": "text/x-python",
   "name": "python",
   "nbconvert_exporter": "python",
   "pygments_lexer": "ipython3",
   "version": "3.6.2"
  }
 },
 "nbformat": 4,
 "nbformat_minor": 2
}
